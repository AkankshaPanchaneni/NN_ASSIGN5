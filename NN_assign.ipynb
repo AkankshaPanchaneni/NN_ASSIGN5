{
  "metadata": {
    "kernelspec": {
      "name": "python",
      "display_name": "Python (Pyodide)",
      "language": "python"
    },
    "language_info": {
      "codemirror_mode": {
        "name": "python",
        "version": 3
      },
      "file_extension": ".py",
      "mimetype": "text/x-python",
      "name": "python",
      "nbconvert_exporter": "python",
      "pygments_lexer": "ipython3",
      "version": "3.8"
    }
  },
  "nbformat_minor": 5,
  "nbformat": 4,
  "cells": [
    {
      "cell_type": "code",
      "source": "import pandas as pd\nfrom sklearn.model_selection import train_test_split\nfrom sklearn.naive_bayes import GaussianNB\nfrom sklearn.metrics import classification_report, accuracy_score\n\n\nglass_data = pd.read_csv('glass.csv')\n\nx_train = glass_data.drop(\"Type\", axis=1)\ny_train = glass_data['Type']\n\n\nx_train, x_test, y_train, y_test = train_test_split(x_train, y_train, test_size=0.2, random_state=0)\n\n#using the training sets train the model\ngnb = GaussianNB()\ngnb.fit(x_train, y_train)\n\n\ny_pred = gnb.predict(x_test)\n# Classification report \nqual_report = classification_report(y_test, y_pred)\nprint(qual_report)\nprint(\"Naive Bayes accuracy is: \",  (accuracy_score(y_test, y_pred))*100) #Naive Bayes accuracy ",
      "metadata": {
        "trusted": true
      },
      "execution_count": 5,
      "outputs": [
        {
          "name": "stdout",
          "text": "              precision    recall  f1-score   support\n\n           1       0.19      0.44      0.27         9\n           2       0.33      0.16      0.21        19\n           3       0.33      0.20      0.25         5\n           5       0.00      0.00      0.00         2\n           6       0.67      1.00      0.80         2\n           7       1.00      1.00      1.00         6\n\n    accuracy                           0.37        43\n   macro avg       0.42      0.47      0.42        43\nweighted avg       0.40      0.37      0.36        43\n\nNaive Bayes accuracy is:  37.2093023255814\n",
          "output_type": "stream"
        }
      ],
      "id": "61c2463c"
    },
    {
      "cell_type": "code",
      "source": "import pandas as pd\nfrom sklearn.model_selection import train_test_split\nfrom sklearn.svm import SVC\nfrom sklearn.metrics import classification_report, accuracy_score\n\n\nglass_data = pd.read_csv('glass.csv')\n\nx_train = glass_data.drop(\"Type\", axis=1)\ny_train = glass_data['Type']\n# using train_test_split we are splitting train and test data \nx_train, x_test, y_train, y_test = train_test_split(x_train, y_train, test_size=0.2, random_state=0)\n\n# Train the model using the training sets\nsvc = SVC()\nsvc.fit(x_train, y_train)\ny_pred = svc.predict(x_test)\n# Classification report \nqual_report = classification_report(y_test, y_pred, zero_division = 0)\nprint(qual_report)\nprint(\"SVM accuracy is: \", accuracy_score(y_test, y_pred)*100) #SVM accuracy\n",
      "metadata": {
        "trusted": true
      },
      "execution_count": 4,
      "outputs": [
        {
          "name": "stdout",
          "text": "              precision    recall  f1-score   support\n\n           1       0.21      1.00      0.35         9\n           2       0.00      0.00      0.00        19\n           3       0.00      0.00      0.00         5\n           5       0.00      0.00      0.00         2\n           6       0.00      0.00      0.00         2\n           7       0.00      0.00      0.00         6\n\n    accuracy                           0.21        43\n   macro avg       0.03      0.17      0.06        43\nweighted avg       0.04      0.21      0.07        43\n\nSVM accuracy is:  20.930232558139537\n",
          "output_type": "stream"
        }
      ],
      "id": "4e1117b0"
    },
    {
      "cell_type": "code",
      "source": "",
      "metadata": {},
      "execution_count": null,
      "outputs": [],
      "id": "91251cdd"
    }
  ]
}